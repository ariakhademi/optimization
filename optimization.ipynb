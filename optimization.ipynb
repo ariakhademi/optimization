{
  "nbformat": 4,
  "nbformat_minor": 0,
  "metadata": {
    "colab": {
      "provenance": [],
      "authorship_tag": "ABX9TyPZnoaL4sPM4TFR1yg52jAK",
      "include_colab_link": true
    },
    "kernelspec": {
      "name": "python3",
      "display_name": "Python 3"
    },
    "language_info": {
      "name": "python"
    }
  },
  "cells": [
    {
      "cell_type": "markdown",
      "metadata": {
        "id": "view-in-github",
        "colab_type": "text"
      },
      "source": [
        "<a href=\"https://colab.research.google.com/github/ariakhademi/optimization/blob/main/optimization.ipynb\" target=\"_parent\"><img src=\"https://colab.research.google.com/assets/colab-badge.svg\" alt=\"Open In Colab\"/></a>"
      ]
    },
    {
      "cell_type": "markdown",
      "source": [
        "### Linear Programming Problem: Furniture Manufacturing\n",
        "\n",
        "**Objective**: Maximize profit:\n",
        "$$ z = 20x_1 + 30x_2 $$\n",
        "\n",
        "**Constraints**:\n",
        "1. Labor: $$ 4x_1 + 3x_2 \\leq 24 $$\n",
        "2. Wood: $$ 2x_1 + 6x_2 \\leq 30 $$\n",
        "3. Non-negativity: $$ x_1, x_2 \\geq 0 $$\n",
        "\n",
        "Where $x_1$ is the number of chairs and $x_2$ is the number of tables."
      ],
      "metadata": {
        "id": "qEjVDL9ENXf7"
      }
    },
    {
      "cell_type": "code",
      "execution_count": 1,
      "metadata": {
        "colab": {
          "base_uri": "https://localhost:8080/"
        },
        "id": "YBP-cjhLJC_2",
        "outputId": "e8f582ac-a855-4b96-f017-e15bf23addf4"
      },
      "outputs": [
        {
          "output_type": "stream",
          "name": "stdout",
          "text": [
            "Optimal Solution Found:\n",
            "Number of chairs (x_1): 3.00\n",
            "Number of tables (x_2): 4.00\n",
            "Maximum profit: $180.00\n",
            "Iterations: 2\n"
          ]
        },
        {
          "output_type": "stream",
          "name": "stderr",
          "text": [
            "<ipython-input-1-9223360010d9>:13: DeprecationWarning: `method='simplex'` is deprecated and will be removed in SciPy 1.11.0. Please use one of the HiGHS solvers (e.g. `method='highs'`) in new code.\n",
            "  result = linprog(c, A_ub=A_ub, b_ub=b_ub, method='simplex')\n"
          ]
        }
      ],
      "source": [
        "import numpy as np\n",
        "from scipy.optimize import linprog\n",
        "\n",
        "# Define the objective function coefficients (negated for maximization)\n",
        "c = [-20, -30]  # Coefficients for z = 20x_1 + 30x_2\n",
        "\n",
        "# Define the inequality constraints: A_ub * x <= b_ub\n",
        "A_ub = [[4, 3],  # 4x_1 + 3x_2 <= 24 (labor)\n",
        "        [2, 6]]  # 2x_1 + 6x_2 <= 30 (wood)\n",
        "b_ub = [24, 30]\n",
        "\n",
        "# Solve the LP problem using the simplex method\n",
        "result = linprog(c, A_ub=A_ub, b_ub=b_ub, method='simplex')\n",
        "\n",
        "# Print the results\n",
        "if result.success:\n",
        "    print(\"Optimal Solution Found:\")\n",
        "    print(f\"Number of chairs (x_1): {result.x[0]:.2f}\")\n",
        "    print(f\"Number of tables (x_2): {result.x[1]:.2f}\")\n",
        "    print(f\"Maximum profit: ${-result.fun:.2f}\")  # Negate fun to get max z\n",
        "    print(f\"Iterations: {result.nit}\")\n",
        "else:\n",
        "    print(\"Optimization failed:\", result.message)"
      ]
    }
  ]
}